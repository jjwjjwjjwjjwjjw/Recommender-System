{
  "nbformat": 4,
  "nbformat_minor": 0,
  "metadata": {
    "colab": {
      "provenance": [],
      "include_colab_link": true
    },
    "kernelspec": {
      "name": "python3",
      "display_name": "Python 3"
    },
    "accelerator": "GPU"
  },
  "cells": [
    {
      "cell_type": "markdown",
      "metadata": {
        "id": "view-in-github",
        "colab_type": "text"
      },
      "source": [
        "<a href=\"https://colab.research.google.com/github/jjwjjwjjwjjwjjw/Recommender-System/blob/main/4.%20DeepFM_%EC%8B%A4%EC%8A%B5.ipynb\" target=\"_parent\"><img src=\"https://colab.research.google.com/assets/colab-badge.svg\" alt=\"Open In Colab\"/></a>"
      ]
    },
    {
      "cell_type": "markdown",
      "metadata": {
        "id": "dAvS-wEB2fOl"
      },
      "source": [
        "# DeepFM\n",
        "\n",
        "- 논문\n",
        "  - DeepFM: A Factorization-Machine based Neural Network for CTR Prediction\n",
        "- Tensorflow 구현 버전([링크](https://github.com/shenweichen/DeepCTR))\n",
        "- PyTorch 버전([링크](https://github.com/shenweichen/DeepCTR-Torch))\n",
        "- Factorization Machine 등 다양한 모델을 사용해 볼 수 있는 [torchfm 링크](https://pypi.org/project/torchfm/)"
      ]
    },
    {
      "cell_type": "markdown",
      "metadata": {
        "id": "Kd30RLIrERU3"
      },
      "source": [
        "## torchfm\n",
        "\n",
        "- `pip install torchfm`으로 바로 설치할 수 있다\n",
        "- DeepFM 구현을 위한 모듈은 아래와 같이 정리할 수 있다"
      ]
    },
    {
      "cell_type": "code",
      "metadata": {
        "id": "y9E9e07zztNA"
      },
      "source": [
        "# !pip install torchfm"
      ],
      "execution_count": null,
      "outputs": []
    },
    {
      "cell_type": "code",
      "metadata": {
        "id": "xbQ4DPF7E02D"
      },
      "source": [
        "import numpy as np\n",
        "import torch\n",
        "import torch.nn.functional as F"
      ],
      "execution_count": null,
      "outputs": []
    },
    {
      "cell_type": "code",
      "metadata": {
        "id": "OM_EmXQuEndB"
      },
      "source": [
        "class FeaturesLinear(torch.nn.Module):\n",
        "\n",
        "    def __init__(self, field_dims, output_dim=1):\n",
        "        super().__init__()\n",
        "        self.fc = torch.nn.Embedding(sum(field_dims), output_dim)\n",
        "        self.bias = torch.nn.Parameter(torch.zeros((output_dim,)))\n",
        "        self.offsets = np.array((0, *np.cumsum(field_dims)[:-1]), dtype=np.long)\n",
        "\n",
        "    def forward(self, x):\n",
        "        \"\"\"\n",
        "        :param x: Long tensor of size ``(batch_size, num_fields)``\n",
        "        \"\"\"\n",
        "        x = x + x.new_tensor(self.offsets).unsqueeze(0)\n",
        "        return torch.sum(self.fc(x), dim=1) + self.bias\n",
        "\n",
        "\n",
        "class FeaturesEmbedding(torch.nn.Module):\n",
        "\n",
        "    def __init__(self, field_dims, embed_dim):\n",
        "        super().__init__()\n",
        "        self.embedding = torch.nn.Embedding(sum(field_dims), embed_dim)\n",
        "        self.offsets = np.array((0, *np.cumsum(field_dims)[:-1]), dtype=np.long)\n",
        "        torch.nn.init.xavier_uniform_(self.embedding.weight.data)\n",
        "\n",
        "    def forward(self, x):\n",
        "        \"\"\"\n",
        "        :param x: Long tensor of size ``(batch_size, num_fields)``\n",
        "        \"\"\"\n",
        "        x = x + x.new_tensor(self.offsets).unsqueeze(0)\n",
        "        return self.embedding(x)\n",
        "\n",
        "\n",
        "class FactorizationMachine(torch.nn.Module):\n",
        "\n",
        "    def __init__(self, reduce_sum=True):\n",
        "        super().__init__()\n",
        "        self.reduce_sum = reduce_sum\n",
        "\n",
        "    def forward(self, x):\n",
        "        \"\"\"\n",
        "        :param x: Float tensor of size ``(batch_size, num_fields, embed_dim)``\n",
        "        \"\"\"\n",
        "        square_of_sum = torch.sum(x, dim=1) ** 2\n",
        "        sum_of_square = torch.sum(x ** 2, dim=1)\n",
        "        ix = square_of_sum - sum_of_square\n",
        "        if self.reduce_sum:\n",
        "            ix = torch.sum(ix, dim=1, keepdim=True)\n",
        "        return 0.5 * ix\n",
        "\n",
        "\n",
        "class MultiLayerPerceptron(torch.nn.Module):\n",
        "\n",
        "    def __init__(self, input_dim, embed_dims, dropout, output_layer=True):\n",
        "        super().__init__()\n",
        "        layers = list()\n",
        "        for embed_dim in embed_dims:\n",
        "            layers.append(torch.nn.Linear(input_dim, embed_dim))\n",
        "            layers.append(torch.nn.BatchNorm1d(embed_dim))\n",
        "            layers.append(torch.nn.ReLU())\n",
        "            layers.append(torch.nn.Dropout(p=dropout))\n",
        "            input_dim = embed_dim\n",
        "        if output_layer:\n",
        "            layers.append(torch.nn.Linear(input_dim, 1))\n",
        "        self.mlp = torch.nn.Sequential(*layers)\n",
        "\n",
        "    def forward(self, x):\n",
        "        \"\"\"\n",
        "        :param x: Float tensor of size ``(batch_size, embed_dim)``\n",
        "        \"\"\"\n",
        "        return self.mlp(x)\n"
      ],
      "execution_count": null,
      "outputs": []
    },
    {
      "cell_type": "code",
      "metadata": {
        "id": "V3NzqC7p2sj_"
      },
      "source": [
        "class DeepFactorizationMachineModel(torch.nn.Module):\n",
        "    \"\"\"\n",
        "    A pytorch implementation of DeepFM.\n",
        "\n",
        "    Reference:\n",
        "        H Guo, et al. DeepFM: A Factorization-Machine based Neural Network for CTR Prediction, 2017.\n",
        "    \"\"\"\n",
        "\n",
        "    def __init__(self, field_dims, embed_dim, mlp_dims, dropout):\n",
        "        super().__init__()\n",
        "        self.linear = FeaturesLinear(field_dims)\n",
        "        self.fm = FactorizationMachine(reduce_sum=True)\n",
        "        self.embedding = FeaturesEmbedding(field_dims, embed_dim)\n",
        "        self.embed_output_dim = len(field_dims) * embed_dim\n",
        "        self.mlp = MultiLayerPerceptron(self.embed_output_dim, mlp_dims, dropout)\n",
        "\n",
        "    def forward(self, x):\n",
        "        \"\"\"\n",
        "        :param x: Long tensor of size ``(batch_size, num_fields)``\n",
        "        \"\"\"\n",
        "        embed_x = self.embedding(x)\n",
        "        x = self.linear(x) + self.fm(embed_x) + self.mlp(embed_x.view(-1, self.embed_output_dim))\n",
        "        return torch.sigmoid(x.squeeze(1))"
      ],
      "execution_count": null,
      "outputs": []
    },
    {
      "cell_type": "markdown",
      "metadata": {
        "id": "_2sagG2EQOk6"
      },
      "source": [
        "## Load dataset and Train model"
      ]
    },
    {
      "cell_type": "code",
      "metadata": {
        "id": "IQakrwjdGUwW",
        "colab": {
          "base_uri": "https://localhost:8080/"
        },
        "outputId": "bbb984b4-c773-4f60-d96d-a1b3658eb859"
      },
      "source": [
        "from google.colab import drive\n",
        "drive.mount('/content/drive')\n",
        "data_path = '/content/drive/MyDrive/data/kmrd/kmr_dataset/datafile/kmrd-small'"
      ],
      "execution_count": null,
      "outputs": [
        {
          "output_type": "stream",
          "name": "stdout",
          "text": [
            "Mounted at /content/drive\n"
          ]
        }
      ]
    },
    {
      "cell_type": "code",
      "metadata": {
        "id": "CYKa_udzHZVp"
      },
      "source": [
        "import torch.utils.data\n",
        "\n",
        "class KMRDDataset(torch.utils.data.Dataset):\n",
        "    def __init__(self, data_path):\n",
        "        data = pd.read_csv(os.path.join(data_path,'rates.csv'))[:10000]\n",
        "\n",
        "        user_to_index = {original: idx for idx, original in enumerate(data.user.unique())}\n",
        "        movie_to_index = {original: idx for idx, original in enumerate(data.movie.unique())}\n",
        "        data['user'] = data['user'].apply(lambda x: user_to_index[x])\n",
        "        data['movie'] = data['movie'].apply(lambda x: movie_to_index[x])\n",
        "        # [user, movie, rate] -> (user, movie, rate)\n",
        "        data = data.to_numpy()[:, :3]\n",
        "\n",
        "        self.items = data[:, :2].astype(np.int)  # -1 because ID begins from 1\n",
        "        self.targets = self.__preprocess_target(data[:, 2]).astype(np.float32)\n",
        "        self.field_dims = np.max(self.items, axis=0) + 1\n",
        "        self.user_field_idx = np.array((0, ), dtype=np.long)\n",
        "        self.item_field_idx = np.array((1,), dtype=np.long)\n",
        "\n",
        "    def __len__(self):\n",
        "        return self.targets.shape[0]\n",
        "\n",
        "    def __getitem__(self, index):\n",
        "        return self.items[index], self.targets[index]\n",
        "\n",
        "    def __preprocess_target(self, target):\n",
        "        target[target <= 9] = 0\n",
        "        target[target > 9] = 1\n",
        "        return target"
      ],
      "execution_count": null,
      "outputs": []
    },
    {
      "cell_type": "code",
      "metadata": {
        "id": "Bc7BPdWLMX1W",
        "colab": {
          "base_uri": "https://localhost:8080/"
        },
        "outputId": "aed0ec07-213c-4a25-d7df-a4d99e1be758"
      },
      "source": [
        "import pandas as pd\n",
        "import os\n",
        "dataset = KMRDDataset(data_path=data_path)"
      ],
      "execution_count": null,
      "outputs": [
        {
          "output_type": "stream",
          "name": "stderr",
          "text": [
            "<ipython-input-6-d7fe20522100>:14: DeprecationWarning: `np.int` is a deprecated alias for the builtin `int`. To silence this warning, use `int` by itself. Doing this will not modify any behavior and is safe. When replacing `np.int`, you may wish to use e.g. `np.int64` or `np.int32` to specify the precision. If you wish to review your current use, check the release note link for additional information.\n",
            "Deprecated in NumPy 1.20; for more details and guidance: https://numpy.org/devdocs/release/1.20.0-notes.html#deprecations\n",
            "  self.items = data[:, :2].astype(np.int)  # -1 because ID begins from 1\n",
            "<ipython-input-6-d7fe20522100>:17: DeprecationWarning: `np.long` is a deprecated alias for `np.compat.long`. To silence this warning, use `np.compat.long` by itself. In the likely event your code does not need to work on Python 2 you can use the builtin `int` for which `np.compat.long` is itself an alias. Doing this will not modify any behaviour and is safe. When replacing `np.long`, you may wish to use e.g. `np.int64` or `np.int32` to specify the precision. If you wish to review your current use, check the release note link for additional information.\n",
            "Deprecated in NumPy 1.20; for more details and guidance: https://numpy.org/devdocs/release/1.20.0-notes.html#deprecations\n",
            "  self.user_field_idx = np.array((0, ), dtype=np.long)\n",
            "<ipython-input-6-d7fe20522100>:18: DeprecationWarning: `np.long` is a deprecated alias for `np.compat.long`. To silence this warning, use `np.compat.long` by itself. In the likely event your code does not need to work on Python 2 you can use the builtin `int` for which `np.compat.long` is itself an alias. Doing this will not modify any behaviour and is safe. When replacing `np.long`, you may wish to use e.g. `np.int64` or `np.int32` to specify the precision. If you wish to review your current use, check the release note link for additional information.\n",
            "Deprecated in NumPy 1.20; for more details and guidance: https://numpy.org/devdocs/release/1.20.0-notes.html#deprecations\n",
            "  self.item_field_idx = np.array((1,), dtype=np.long)\n"
          ]
        }
      ]
    },
    {
      "cell_type": "code",
      "metadata": {
        "id": "asYnq1yrS7u9",
        "colab": {
          "base_uri": "https://localhost:8080/"
        },
        "outputId": "d083eba2-1335-4e96-b257-76ba2ea9002d"
      },
      "source": [
        "print(dataset.item_field_idx)\n",
        "print(dataset.field_dims)\n",
        "print(sum(dataset.field_dims))\n",
        "print(torch.nn.Embedding(sum(dataset.field_dims), 16))\n",
        "print(torch.nn.Parameter(torch.zeros((1,))))\n",
        "print(np.array((0, *np.cumsum(dataset.field_dims)[:-1]), dtype=np.long))"
      ],
      "execution_count": null,
      "outputs": [
        {
          "output_type": "stream",
          "name": "stdout",
          "text": [
            "[1]\n",
            "[466 532]\n",
            "998\n",
            "Embedding(998, 16)\n",
            "Parameter containing:\n",
            "tensor([0.], requires_grad=True)\n",
            "[  0 466]\n"
          ]
        },
        {
          "output_type": "stream",
          "name": "stderr",
          "text": [
            "<ipython-input-8-2352722afba8>:6: DeprecationWarning: `np.long` is a deprecated alias for `np.compat.long`. To silence this warning, use `np.compat.long` by itself. In the likely event your code does not need to work on Python 2 you can use the builtin `int` for which `np.compat.long` is itself an alias. Doing this will not modify any behaviour and is safe. When replacing `np.long`, you may wish to use e.g. `np.int64` or `np.int32` to specify the precision. If you wish to review your current use, check the release note link for additional information.\n",
            "Deprecated in NumPy 1.20; for more details and guidance: https://numpy.org/devdocs/release/1.20.0-notes.html#deprecations\n",
            "  print(np.array((0, *np.cumsum(dataset.field_dims)[:-1]), dtype=np.long))\n"
          ]
        }
      ]
    },
    {
      "cell_type": "code",
      "metadata": {
        "id": "AQ4C58vWMii8"
      },
      "source": [
        "train_length = int(len(dataset) * 0.8)\n",
        "valid_length = int(len(dataset) * 0.1)\n",
        "test_length = len(dataset) - train_length - valid_length\n",
        "train_dataset, valid_dataset, test_dataset = torch.utils.data.random_split(\n",
        "    dataset, (train_length, valid_length, test_length))"
      ],
      "execution_count": null,
      "outputs": []
    },
    {
      "cell_type": "code",
      "metadata": {
        "id": "we2zGR11MkPK"
      },
      "source": [
        "from torch.utils.data import DataLoader\n",
        "\n",
        "train_data_loader = DataLoader(train_dataset, batch_size=16)\n",
        "valid_data_loader = DataLoader(valid_dataset, batch_size=16)\n",
        "test_data_loader = DataLoader(test_dataset, batch_size=1)"
      ],
      "execution_count": null,
      "outputs": []
    },
    {
      "cell_type": "code",
      "metadata": {
        "id": "_XXc6KdzPycr",
        "colab": {
          "base_uri": "https://localhost:8080/"
        },
        "outputId": "d131a0f8-31cf-4734-ea5e-2bdff767081f"
      },
      "source": [
        "print(dataset.items)\n",
        "print(dataset.targets)"
      ],
      "execution_count": null,
      "outputs": [
        {
          "output_type": "stream",
          "name": "stdout",
          "text": [
            "[[  0   0]\n",
            " [  0   1]\n",
            " [  0   2]\n",
            " ...\n",
            " [465  15]\n",
            " [465  15]\n",
            " [465 338]]\n",
            "[0. 0. 0. ... 0. 0. 0.]\n"
          ]
        }
      ]
    },
    {
      "cell_type": "code",
      "metadata": {
        "id": "uiODQsxfIUwM",
        "colab": {
          "base_uri": "https://localhost:8080/"
        },
        "outputId": "10dbe0dc-7e51-4ddb-fa39-8fe1c7a88e71"
      },
      "source": [
        "model = DeepFactorizationMachineModel(dataset.field_dims, embed_dim=16, mlp_dims=(16, 16), dropout=0.2)\n",
        "model"
      ],
      "execution_count": null,
      "outputs": [
        {
          "output_type": "stream",
          "name": "stderr",
          "text": [
            "<ipython-input-3-8c9eb3eb681d>:7: DeprecationWarning: `np.long` is a deprecated alias for `np.compat.long`. To silence this warning, use `np.compat.long` by itself. In the likely event your code does not need to work on Python 2 you can use the builtin `int` for which `np.compat.long` is itself an alias. Doing this will not modify any behaviour and is safe. When replacing `np.long`, you may wish to use e.g. `np.int64` or `np.int32` to specify the precision. If you wish to review your current use, check the release note link for additional information.\n",
            "Deprecated in NumPy 1.20; for more details and guidance: https://numpy.org/devdocs/release/1.20.0-notes.html#deprecations\n",
            "  self.offsets = np.array((0, *np.cumsum(field_dims)[:-1]), dtype=np.long)\n",
            "<ipython-input-3-8c9eb3eb681d>:22: DeprecationWarning: `np.long` is a deprecated alias for `np.compat.long`. To silence this warning, use `np.compat.long` by itself. In the likely event your code does not need to work on Python 2 you can use the builtin `int` for which `np.compat.long` is itself an alias. Doing this will not modify any behaviour and is safe. When replacing `np.long`, you may wish to use e.g. `np.int64` or `np.int32` to specify the precision. If you wish to review your current use, check the release note link for additional information.\n",
            "Deprecated in NumPy 1.20; for more details and guidance: https://numpy.org/devdocs/release/1.20.0-notes.html#deprecations\n",
            "  self.offsets = np.array((0, *np.cumsum(field_dims)[:-1]), dtype=np.long)\n"
          ]
        },
        {
          "output_type": "execute_result",
          "data": {
            "text/plain": [
              "DeepFactorizationMachineModel(\n",
              "  (linear): FeaturesLinear(\n",
              "    (fc): Embedding(998, 1)\n",
              "  )\n",
              "  (fm): FactorizationMachine()\n",
              "  (embedding): FeaturesEmbedding(\n",
              "    (embedding): Embedding(998, 16)\n",
              "  )\n",
              "  (mlp): MultiLayerPerceptron(\n",
              "    (mlp): Sequential(\n",
              "      (0): Linear(in_features=32, out_features=16, bias=True)\n",
              "      (1): BatchNorm1d(16, eps=1e-05, momentum=0.1, affine=True, track_running_stats=True)\n",
              "      (2): ReLU()\n",
              "      (3): Dropout(p=0.2, inplace=False)\n",
              "      (4): Linear(in_features=16, out_features=16, bias=True)\n",
              "      (5): BatchNorm1d(16, eps=1e-05, momentum=0.1, affine=True, track_running_stats=True)\n",
              "      (6): ReLU()\n",
              "      (7): Dropout(p=0.2, inplace=False)\n",
              "      (8): Linear(in_features=16, out_features=1, bias=True)\n",
              "    )\n",
              "  )\n",
              ")"
            ]
          },
          "metadata": {},
          "execution_count": 12
        }
      ]
    },
    {
      "cell_type": "code",
      "metadata": {
        "id": "ScU73hwYLtww"
      },
      "source": [
        "criterion = torch.nn.BCELoss()\n",
        "optimizer = torch.optim.Adam(params=model.parameters(), lr=0.001, weight_decay=1e-6)"
      ],
      "execution_count": null,
      "outputs": []
    },
    {
      "cell_type": "code",
      "metadata": {
        "id": "MeIvkWAeMywi",
        "colab": {
          "base_uri": "https://localhost:8080/"
        },
        "outputId": "771b8218-bd0f-4c9e-cfc6-4cfdd9b34755"
      },
      "source": [
        "import tqdm\n",
        "log_interval = 100\n",
        "\n",
        "model.train()\n",
        "total_loss = 0\n",
        "tk0 = tqdm.tqdm(train_data_loader, smoothing=0, mininterval=1.0)\n",
        "for i, (fields, target) in enumerate(tk0):\n",
        "    # fields, target = fields.to(device), target.to(device)\n",
        "    y = model(fields)\n",
        "    loss = criterion(y, target.float())\n",
        "    model.zero_grad()\n",
        "    loss.backward()\n",
        "    optimizer.step()\n",
        "    total_loss += loss.item()\n",
        "    if (i + 1) % log_interval == 0:\n",
        "        tk0.set_postfix(loss=total_loss / log_interval)\n",
        "        total_loss = 0"
      ],
      "execution_count": null,
      "outputs": [
        {
          "output_type": "stream",
          "name": "stderr",
          "text": [
            "100%|██████████| 500/500 [00:01<00:00, 324.85it/s, loss=0.59]\n"
          ]
        }
      ]
    },
    {
      "cell_type": "code",
      "metadata": {
        "id": "niSkSJcH42dr"
      },
      "source": [],
      "execution_count": null,
      "outputs": []
    }
  ]
}
