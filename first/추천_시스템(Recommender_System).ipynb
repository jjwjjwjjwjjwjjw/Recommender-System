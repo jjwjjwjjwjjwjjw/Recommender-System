{
  "nbformat": 4,
  "nbformat_minor": 0,
  "metadata": {
    "colab": {
      "provenance": [],
      "include_colab_link": true
    },
    "kernelspec": {
      "name": "python3",
      "display_name": "Python 3"
    }
  },
  "cells": [
    {
      "cell_type": "markdown",
      "metadata": {
        "id": "view-in-github",
        "colab_type": "text"
      },
      "source": [
        "<a href=\"https://colab.research.google.com/github/jjwjjwjjwjjwjjw/Recommender-System-first-/blob/main/%EC%B6%94%EC%B2%9C_%EC%8B%9C%EC%8A%A4%ED%85%9C(Recommender_System).ipynb\" target=\"_parent\"><img src=\"https://colab.research.google.com/assets/colab-badge.svg\" alt=\"Open In Colab\"/></a>"
      ]
    },
    {
      "cell_type": "markdown",
      "metadata": {
        "id": "oIAnNuuX2EOr"
      },
      "source": [
        "# 추천 시스템 (Recommender Systems)\n",
        "\n",
        "* 추천 시스템은 크게 두가지로 구분 가능\n",
        "  * 컨텐츠 기반 필터링 (content-based filtering)\n",
        "  * 협업 필터링 (collaborative filtering)\n",
        "* 두가지를 조합한 hybrid 방식도 가능\n",
        "* 컨텐츠 기반 필터링은 지금까지 사용자의 이전 행동과 명시적 피드백을 통해 사용자가 좋아하는 것과 유사한 항목을 추천\n",
        "* 협업 필터링은 사용자와 항목간의 유사성을 동시에 사용해 추천"
      ]
    },
    {
      "cell_type": "markdown",
      "metadata": {
        "id": "pKQvtsfX2bRf"
      },
      "source": [
        "## Surprise\n",
        "\n",
        "* 추천 시스템 개발을 위한 라이브러리\n",
        "* 다양한 모델과 데이터 제공\n",
        "* scikit-learn과 유사한 사용 방법"
      ]
    },
    {
      "cell_type": "code",
      "metadata": {
        "id": "AvuLuP8J16Eb",
        "colab": {
          "base_uri": "https://localhost:8080/"
        },
        "outputId": "fa0cba4b-2db1-41d5-a930-f061e0c113af"
      },
      "source": [
        "!pip install scikit-surprise"
      ],
      "execution_count": null,
      "outputs": [
        {
          "output_type": "stream",
          "name": "stdout",
          "text": [
            "Collecting scikit-surprise\n",
            "  Downloading scikit-surprise-1.1.3.tar.gz (771 kB)\n",
            "\u001b[2K     \u001b[90m━━━━━━━━━━━━━━━━━━━━━━━━━━━━━━━━━━━━━━━━\u001b[0m \u001b[32m772.0/772.0 kB\u001b[0m \u001b[31m8.7 MB/s\u001b[0m eta \u001b[36m0:00:00\u001b[0m\n",
            "\u001b[?25h  Preparing metadata (setup.py) ... \u001b[?25l\u001b[?25hdone\n",
            "Requirement already satisfied: joblib>=1.0.0 in /usr/local/lib/python3.10/dist-packages (from scikit-surprise) (1.3.2)\n",
            "Requirement already satisfied: numpy>=1.17.3 in /usr/local/lib/python3.10/dist-packages (from scikit-surprise) (1.23.5)\n",
            "Requirement already satisfied: scipy>=1.3.2 in /usr/local/lib/python3.10/dist-packages (from scikit-surprise) (1.11.3)\n",
            "Building wheels for collected packages: scikit-surprise\n",
            "  Building wheel for scikit-surprise (setup.py) ... \u001b[?25l\u001b[?25hdone\n",
            "  Created wheel for scikit-surprise: filename=scikit_surprise-1.1.3-cp310-cp310-linux_x86_64.whl size=3163338 sha256=b0ddc2977b3c6582cf7f04ca6375ed478b1e421f0b0841d25039407eb71848b3\n",
            "  Stored in directory: /root/.cache/pip/wheels/a5/ca/a8/4e28def53797fdc4363ca4af740db15a9c2f1595ebc51fb445\n",
            "Successfully built scikit-surprise\n",
            "Installing collected packages: scikit-surprise\n",
            "Successfully installed scikit-surprise-1.1.3\n"
          ]
        }
      ]
    },
    {
      "cell_type": "markdown",
      "metadata": {
        "id": "f8S2mbY13TPl"
      },
      "source": [
        "간단한 surprise 실습"
      ]
    },
    {
      "cell_type": "markdown",
      "source": [],
      "metadata": {
        "id": "QDK-HczaEsPV"
      }
    },
    {
      "cell_type": "code",
      "metadata": {
        "id": "FXrDk0XH2vbx"
      },
      "source": [
        "from surprise import SVD\n",
        "from surprise import Dataset\n",
        "from surprise.model_selection import cross_validate"
      ],
      "execution_count": null,
      "outputs": []
    },
    {
      "cell_type": "markdown",
      "source": [],
      "metadata": {
        "id": "JL2ZOeugErqv"
      }
    },
    {
      "cell_type": "code",
      "metadata": {
        "id": "M0SJB24k3ReQ",
        "colab": {
          "base_uri": "https://localhost:8080/"
        },
        "outputId": "cdd665d7-4db4-4b69-a1b1-293666221af7"
      },
      "source": [
        "data = Dataset.load_builtin('ml-100k', prompt=False)\n",
        "data.raw_ratings[:10]"
      ],
      "execution_count": null,
      "outputs": [
        {
          "output_type": "stream",
          "name": "stdout",
          "text": [
            "Trying to download dataset from https://files.grouplens.org/datasets/movielens/ml-100k.zip...\n",
            "Done! Dataset ml-100k has been saved to /root/.surprise_data/ml-100k\n"
          ]
        },
        {
          "output_type": "execute_result",
          "data": {
            "text/plain": [
              "[('196', '242', 3.0, '881250949'),\n",
              " ('186', '302', 3.0, '891717742'),\n",
              " ('22', '377', 1.0, '878887116'),\n",
              " ('244', '51', 2.0, '880606923'),\n",
              " ('166', '346', 1.0, '886397596'),\n",
              " ('298', '474', 4.0, '884182806'),\n",
              " ('115', '265', 2.0, '881171488'),\n",
              " ('253', '465', 5.0, '891628467'),\n",
              " ('305', '451', 3.0, '886324817'),\n",
              " ('6', '86', 3.0, '883603013')]"
            ]
          },
          "metadata": {},
          "execution_count": 5
        }
      ]
    },
    {
      "cell_type": "code",
      "metadata": {
        "id": "IGZjsosZ3jwy"
      },
      "source": [
        "model = SVD()"
      ],
      "execution_count": null,
      "outputs": []
    },
    {
      "cell_type": "code",
      "metadata": {
        "id": "nAF9VVHt9qz9",
        "colab": {
          "base_uri": "https://localhost:8080/"
        },
        "outputId": "45741b2f-1007-4326-b62b-2d4b6b7de716"
      },
      "source": [
        "cross_validate(model, data, measures=['rmse','mae'], cv=5, verbose=True)"
      ],
      "execution_count": null,
      "outputs": [
        {
          "output_type": "stream",
          "name": "stdout",
          "text": [
            "Evaluating RMSE, MAE of algorithm SVD on 5 split(s).\n",
            "\n",
            "                  Fold 1  Fold 2  Fold 3  Fold 4  Fold 5  Mean    Std     \n",
            "RMSE (testset)    0.9400  0.9446  0.9322  0.9335  0.9321  0.9365  0.0050  \n",
            "MAE (testset)     0.7421  0.7461  0.7364  0.7358  0.7358  0.7393  0.0042  \n",
            "Fit time          1.51    1.50    1.50    2.06    1.58    1.63    0.22    \n",
            "Test time         0.17    0.22    0.15    0.32    0.21    0.21    0.06    \n"
          ]
        },
        {
          "output_type": "execute_result",
          "data": {
            "text/plain": [
              "{'test_rmse': array([0.93996511, 0.94459661, 0.93217328, 0.93351928, 0.93205298]),\n",
              " 'test_mae': array([0.74206075, 0.7461441 , 0.73641875, 0.73584725, 0.735811  ]),\n",
              " 'fit_time': (1.5132184028625488,\n",
              "  1.497790813446045,\n",
              "  1.5002286434173584,\n",
              "  2.0626742839813232,\n",
              "  1.5791025161743164),\n",
              " 'test_time': (0.17022037506103516,\n",
              "  0.21714305877685547,\n",
              "  0.1455676555633545,\n",
              "  0.3222839832305908,\n",
              "  0.2115793228149414)}"
            ]
          },
          "metadata": {},
          "execution_count": 7
        }
      ]
    },
    {
      "cell_type": "markdown",
      "metadata": {
        "id": "tP5L65zvCRlv"
      },
      "source": [
        "## 컨텐츠 기반 필터링 (Content-based Filtering)\n",
        "\n",
        "* 컨텐츠 기반 필터링은 이전의 행동과 명시적 피드백을 통해 좋아하는 것과 유사한 항목을 추천\n",
        "  * ex) 내가 지금 까지 시청한 영화 목록과 다른 사용자의 시청 목록을 비교해 나와 비슷한 취향의 사용자가 시청한 영화를 추천\n",
        "* 유사도를 기반으로 추천\n",
        "* 컨텐츠 기반 필터링은 다음과 같은 장단점이 있다.\n",
        "  * 장점\n",
        "    * 많은 수의 사용자를 대상으로 쉽게 확장 가능\n",
        "    * 사용자가 관심을 갖지 않던 상품 추천 가능\n",
        "  * 단점\n",
        "    * 입력 특성을 직접 설계해야 하기 때문에 많은 도메인 지식이 필요\n",
        "    * 사용자의 기존 관심사항을 기반으로만 추천 가능"
      ]
    },
    {
      "cell_type": "code",
      "metadata": {
        "id": "M81hRKa9-9pK"
      },
      "source": [
        "import numpy as np"
      ],
      "execution_count": null,
      "outputs": []
    },
    {
      "cell_type": "markdown",
      "metadata": {
        "id": "0NyTt1u8LLCP"
      },
      "source": [
        "* 이진 벡터의 내적을 통해 다른 사용자들과의 유사도 구하기\n",
        "* 나와 가장 높은 유사도를 가진 사용자의 시청 목록을 추천"
      ]
    },
    {
      "cell_type": "code",
      "metadata": {
        "id": "-Y3Y_rNWH-zT"
      },
      "source": [
        "data = Dataset.load_builtin('ml-100k', prompt=False)\n",
        "raw_data = np.array(data.raw_ratings, dtype=int)"
      ],
      "execution_count": null,
      "outputs": []
    },
    {
      "cell_type": "code",
      "metadata": {
        "id": "z60YDlPOJzSr"
      },
      "source": [
        "raw_data[:,0] -= 1\n",
        "raw_data[:,1] -= 1"
      ],
      "execution_count": null,
      "outputs": []
    },
    {
      "cell_type": "code",
      "metadata": {
        "id": "4f20U_BFIbQA",
        "colab": {
          "base_uri": "https://localhost:8080/"
        },
        "outputId": "0de6b4e9-2778-4fbc-b7e2-3ea9d0e953f6"
      },
      "source": [
        "n_users = np.max(raw_data[:,0]) #사용자의 총 수\n",
        "n_movies = np.max(raw_data[:,1]) #영화의 총 수\n",
        "shape = (n_users +1, n_movies +1) #배열 모양 결정\n",
        "shape"
      ],
      "execution_count": null,
      "outputs": [
        {
          "output_type": "execute_result",
          "data": {
            "text/plain": [
              "(943, 1682)"
            ]
          },
          "metadata": {},
          "execution_count": 11
        }
      ]
    },
    {
      "cell_type": "code",
      "metadata": {
        "id": "JT6HXk_8I4Zd",
        "colab": {
          "base_uri": "https://localhost:8080/"
        },
        "outputId": "df5383bf-9b9d-476c-8b3b-16a46ed59dbd"
      },
      "source": [
        "adj_matrix = np.ndarray(shape, dtype=int)\n",
        "for user_id, movie_id, rating, time in raw_data:\n",
        "  adj_matrix[user_id][movie_id] = 1.\n",
        "adj_matrix #1이 있는 위치가 데이터 o"
      ],
      "execution_count": null,
      "outputs": [
        {
          "output_type": "execute_result",
          "data": {
            "text/plain": [
              "array([[1, 1, 1, ..., 0, 0, 0],\n",
              "       [1, 0, 0, ..., 0, 0, 0],\n",
              "       [0, 0, 0, ..., 0, 0, 0],\n",
              "       ...,\n",
              "       [1, 0, 0, ..., 0, 0, 0],\n",
              "       [0, 0, 0, ..., 0, 0, 0],\n",
              "       [0, 1, 0, ..., 0, 0, 0]])"
            ]
          },
          "metadata": {},
          "execution_count": 29
        }
      ]
    },
    {
      "cell_type": "code",
      "metadata": {
        "id": "bVShJje-Jn0x",
        "colab": {
          "base_uri": "https://localhost:8080/"
        },
        "outputId": "6bdd9508-d3fe-495e-99cf-11f5100031dd"
      },
      "source": [
        "#유사도 계산\n",
        "my_id, my_vector = 0, adj_matrix[0]\n",
        "best_match, best_vector, best_match_vector = -1, -1, []\n",
        "\n",
        "for user_id, user_vector in enumerate(adj_matrix):\n",
        "  if my_id != user_id:\n",
        "    similarity = np.dot(my_vector, user_vector)\n",
        "    if similarity > best_match:\n",
        "      best_match = similarity\n",
        "      best_match_id = user_id\n",
        "      best_match_vector = user_vector\n",
        "\n",
        "print('Best Match: {}, Best Match ID: {}'.format(best_match, best_match_id))"
      ],
      "execution_count": null,
      "outputs": [
        {
          "output_type": "stream",
          "name": "stdout",
          "text": [
            "Best Match: 183, Best Match ID: 275\n"
          ]
        }
      ]
    },
    {
      "cell_type": "code",
      "metadata": {
        "id": "mRr8UnD7MB7U",
        "colab": {
          "base_uri": "https://localhost:8080/"
        },
        "outputId": "3abc8fc3-e6bd-4768-d758-cb869e2c334d"
      },
      "source": [
        "recommend_list = []\n",
        "for i, log in enumerate(zip(my_vector, best_match_vector)):\n",
        "  log1, log2 = log\n",
        "  if log1 <1. and log2 >0. :\n",
        "    recommend_list.append(i)\n",
        "print(recommend_list)"
      ],
      "execution_count": null,
      "outputs": [
        {
          "output_type": "stream",
          "name": "stdout",
          "text": [
            "[272, 273, 275, 280, 281, 283, 287, 288, 289, 290, 292, 293, 297, 299, 300, 301, 302, 306, 312, 314, 315, 316, 317, 321, 322, 323, 324, 327, 330, 331, 332, 333, 339, 342, 345, 346, 353, 354, 355, 356, 357, 363, 364, 365, 366, 372, 374, 378, 379, 381, 382, 383, 384, 385, 386, 387, 390, 391, 392, 394, 395, 396, 398, 400, 401, 402, 403, 404, 405, 406, 407, 408, 409, 410, 412, 414, 416, 417, 418, 419, 420, 422, 424, 425, 426, 427, 428, 430, 431, 432, 435, 442, 446, 447, 448, 449, 450, 451, 452, 454, 455, 457, 460, 461, 462, 468, 469, 470, 471, 472, 473, 474, 478, 495, 500, 507, 517, 522, 525, 530, 539, 540, 543, 545, 546, 548, 549, 550, 551, 553, 557, 558, 560, 561, 562, 563, 565, 566, 567, 568, 570, 571, 574, 575, 576, 577, 580, 581, 582, 585, 587, 589, 590, 594, 596, 602, 623, 626, 627, 630, 633, 635, 639, 646, 648, 651, 652, 654, 657, 664, 668, 671, 677, 678, 681, 683, 684, 685, 690, 691, 692, 695, 696, 708, 709, 714, 718, 719, 720, 724, 726, 727, 731, 733, 734, 736, 738, 741, 742, 745, 746, 747, 749, 750, 754, 758, 762, 764, 767, 768, 769, 770, 771, 772, 773, 778, 779, 782, 785, 788, 789, 793, 795, 796, 799, 800, 801, 802, 805, 806, 808, 815, 819, 822, 824, 830, 839, 842, 843, 844, 852, 853, 870, 875, 878, 880, 889, 901, 914, 915, 918, 921, 927, 929, 930, 938, 940, 941, 942, 948, 950, 958, 968, 973, 974, 976, 992, 999, 1005, 1009, 1010, 1012, 1015, 1018, 1027, 1030, 1034, 1035, 1041, 1043, 1045, 1046, 1051, 1055, 1072, 1073, 1078, 1080, 1082, 1088, 1089, 1090, 1094, 1097, 1108, 1109, 1117, 1128, 1130, 1134, 1139, 1140, 1144, 1156, 1169, 1171, 1179, 1193, 1198, 1207, 1209, 1212, 1217, 1219, 1220, 1227, 1231, 1238, 1239, 1243, 1244, 1252, 1266, 1272, 1273, 1300, 1313, 1406, 1412, 1415, 1470, 1477, 1480, 1481, 1482]\n"
          ]
        }
      ]
    },
    {
      "cell_type": "markdown",
      "metadata": {
        "id": "zR7-LITWZQnJ"
      },
      "source": [
        "* 유클리드 거리를 사용해 추천\n",
        "$$euclidean = \\sqrt{\\sum_{d=1}^{D}(A_i - B_i)^2}$$\n",
        "* 거리가 가까울 수록(값이 작을 수록) 나와 유사한 사용자"
      ]
    },
    {
      "cell_type": "code",
      "metadata": {
        "id": "WhbLJGz3NuNA",
        "colab": {
          "base_uri": "https://localhost:8080/"
        },
        "outputId": "f3752f9b-4554-4eb1-ca1e-5925dd2ec35d"
      },
      "source": [
        "#유사도 계산\n",
        "my_id, my_vector = 0, adj_matrix[0]\n",
        "best_match, best_vector, best_match_vector = 9999, -1, []\n",
        "\n",
        "for user_id, user_vector in enumerate(adj_matrix):\n",
        "  if my_id != user_id:\n",
        "    euclidean_dist = np.sqrt(np.sum(np.square(my_vector - user_vector)))\n",
        "    if euclidean_dist < best_match:\n",
        "      best_match = euclidean_dist\n",
        "      best_match_id = user_id\n",
        "      best_match_vector = user_vector\n",
        "\n",
        "print('Best Match: {}, Best Match ID: {}'.format(best_match, best_match_id))"
      ],
      "execution_count": null,
      "outputs": [
        {
          "output_type": "stream",
          "name": "stdout",
          "text": [
            "Best Match: 14.832396974191326, Best Match ID: 737\n"
          ]
        }
      ]
    },
    {
      "cell_type": "code",
      "metadata": {
        "id": "xbS037xebA76",
        "colab": {
          "base_uri": "https://localhost:8080/"
        },
        "outputId": "45dd65fb-828d-4045-f84d-f5fbacf2f241"
      },
      "source": [
        "recommend_list = []\n",
        "for i, log in enumerate(zip(my_vector, best_match_vector)):\n",
        "  log1, log2 = log\n",
        "  if log1 <1. and log2 >0. :\n",
        "    recommend_list.append(i)\n",
        "print(recommend_list)"
      ],
      "execution_count": null,
      "outputs": [
        {
          "output_type": "stream",
          "name": "stdout",
          "text": [
            "[297, 312, 317, 342, 356, 366, 379, 384, 392, 402, 404, 407, 417, 422, 428, 433, 448, 454, 469, 473, 495, 510, 516, 526, 527, 549, 567, 602, 635, 649, 650, 654, 658, 661, 664, 696, 731, 746, 750, 754, 915, 918, 925, 929, 950, 968, 1015, 1046]\n"
          ]
        }
      ]
    },
    {
      "cell_type": "markdown",
      "metadata": {
        "id": "52c6nfonct7x"
      },
      "source": [
        "* 코사인 유사도를 사용해 추천\n",
        "\n",
        "\\begin{equation}\n",
        "cos \\theta = \\frac{A \\cdot B}{||A|| \\times ||B||}\n",
        "\\end{equation}\n",
        "* 두 벡터가 이루고 있는 각을 계산"
      ]
    },
    {
      "cell_type": "code",
      "metadata": {
        "id": "WEJMnmAYejJW"
      },
      "source": [
        "def compute_cos_similarity(v1, v2):\n",
        "  norm1 = np.sqrt(np.sum(np.square(v1)))\n",
        "  norm2 = np.sqrt(np.sum(np.square(v2)))\n",
        "  dot =  np.dot(v1, v2)\n",
        "  return dot / (norm1 * norm2)"
      ],
      "execution_count": null,
      "outputs": []
    },
    {
      "cell_type": "code",
      "metadata": {
        "id": "eouFYlVZb3iT",
        "colab": {
          "base_uri": "https://localhost:8080/"
        },
        "outputId": "87f90653-bc7f-4d80-8c21-366a819a25aa"
      },
      "source": [
        "#유사도 계산\n",
        "my_id, my_vector = 0, adj_matrix[0]\n",
        "best_match, best_vector, best_match_vector = -1, -1, []\n",
        "\n",
        "for user_id, user_vector in enumerate(adj_matrix):\n",
        "  if my_id != user_id:\n",
        "    cos_similarity = compute_cos_similarity(my_vector, user_vector)\n",
        "    if cos_similarity > best_match:\n",
        "      best_match = cos_similarity\n",
        "      best_match_id = user_id\n",
        "      best_match_vector = user_vector\n",
        "\n",
        "print('Best Match: {}, Best Match ID: {}'.format(best_match, best_match_id))"
      ],
      "execution_count": null,
      "outputs": [
        {
          "output_type": "stream",
          "name": "stdout",
          "text": [
            "Best Match: 0.5278586163659506, Best Match ID: 915\n"
          ]
        }
      ]
    },
    {
      "cell_type": "code",
      "metadata": {
        "id": "HVhjBMure_4D",
        "colab": {
          "base_uri": "https://localhost:8080/"
        },
        "outputId": "6a1a5980-bfe3-454b-a976-4cd100775f8e"
      },
      "source": [
        "recommend_list = []\n",
        "for i, log in enumerate(zip(my_vector, best_match_vector)):\n",
        "  log1, log2 = log\n",
        "  if log1 <1. and log2 >0. :\n",
        "    recommend_list.append(i)\n",
        "print(recommend_list)"
      ],
      "execution_count": null,
      "outputs": [
        {
          "output_type": "stream",
          "name": "stdout",
          "text": [
            "[272, 275, 279, 280, 283, 285, 289, 294, 297, 316, 317, 355, 365, 366, 368, 379, 380, 381, 384, 386, 392, 398, 401, 404, 416, 420, 422, 424, 426, 427, 430, 432, 450, 460, 461, 466, 469, 471, 473, 474, 475, 479, 482, 483, 497, 505, 508, 510, 511, 522, 526, 527, 529, 530, 534, 536, 540, 545, 548, 549, 556, 557, 558, 560, 565, 567, 568, 569, 577, 580, 581, 582, 592, 596, 630, 635, 639, 641, 649, 651, 654, 673, 677, 678, 683, 684, 692, 696, 701, 703, 707, 708, 709, 712, 714, 719, 720, 726, 731, 734, 736, 738, 740, 745, 747, 754, 755, 761, 762, 763, 766, 780, 789, 791, 805, 819, 823, 824, 830, 843, 862, 865, 918, 929, 930, 938, 942, 943, 947, 958, 959, 960, 970, 977, 1004, 1008, 1009, 1010, 1013, 1041, 1045, 1069, 1072, 1073, 1078, 1097, 1100, 1108, 1112, 1118, 1134, 1193, 1205, 1207, 1216, 1219, 1267, 1334, 1400, 1427, 1596, 1681]\n"
          ]
        }
      ]
    },
    {
      "cell_type": "markdown",
      "metadata": {
        "id": "0dbZPgC4gZYw"
      },
      "source": [
        "기존 방법에 명시적 피드백(사용자가 평가한 영화 점수)을 추가해 실험"
      ]
    },
    {
      "cell_type": "code",
      "metadata": {
        "id": "_5udkr1PfGAD",
        "colab": {
          "base_uri": "https://localhost:8080/"
        },
        "outputId": "bb4bbe95-5223-49d3-85bb-7f0036279820"
      },
      "source": [
        "adj_matrix = np.ndarray(shape, dtype=int)\n",
        "for user_id, movie_id, rating, time in raw_data:\n",
        "  adj_matrix[user_id][movie_id] = rating\n",
        "adj_matrix"
      ],
      "execution_count": null,
      "outputs": [
        {
          "output_type": "execute_result",
          "data": {
            "text/plain": [
              "array([[5, 3, 4, ..., 0, 0, 0],\n",
              "       [4, 0, 0, ..., 0, 0, 0],\n",
              "       [0, 0, 0, ..., 0, 0, 0],\n",
              "       ...,\n",
              "       [5, 0, 0, ..., 0, 0, 0],\n",
              "       [0, 0, 0, ..., 0, 0, 0],\n",
              "       [0, 5, 0, ..., 0, 0, 0]])"
            ]
          },
          "metadata": {},
          "execution_count": 30
        }
      ]
    },
    {
      "cell_type": "code",
      "metadata": {
        "id": "ApfZVTtGgs41",
        "colab": {
          "base_uri": "https://localhost:8080/"
        },
        "outputId": "52c83079-80a3-4b6c-fd87-6b1332b23aa4"
      },
      "source": [
        "#유사도 계산\n",
        "my_id, my_vector = 0, adj_matrix[0]\n",
        "best_match, best_vector, best_match_vector = 9999, -1, []\n",
        "\n",
        "for user_id, user_vector in enumerate(adj_matrix):\n",
        "  if my_id != user_id:\n",
        "    euclidean_dist = np.sqrt(np.sum(np.square(my_vector - user_vector)))\n",
        "    if euclidean_dist < best_match:\n",
        "      best_match = euclidean_dist\n",
        "      best_match_id = user_id\n",
        "      best_match_vector = user_vector\n",
        "\n",
        "print('Best Match: {}, Best Match ID: {}'.format(best_match, best_match_id))"
      ],
      "execution_count": null,
      "outputs": [
        {
          "output_type": "stream",
          "name": "stdout",
          "text": [
            "Best Match: 55.06359959174482, Best Match ID: 737\n"
          ]
        }
      ]
    },
    {
      "cell_type": "code",
      "metadata": {
        "id": "OYTI1nT0hKtz",
        "colab": {
          "base_uri": "https://localhost:8080/"
        },
        "outputId": "ff6634bd-d5d8-4bda-d066-1d83850d4e94"
      },
      "source": [
        "#유사도 계산\n",
        "my_id, my_vector = 0, adj_matrix[0]\n",
        "best_match, best_vector, best_match_vector = -1, -1, []\n",
        "\n",
        "for user_id, user_vector in enumerate(adj_matrix):\n",
        "  if my_id != user_id:\n",
        "    cos_similarity = compute_cos_similarity(my_vector, user_vector)\n",
        "    if cos_similarity > best_match:\n",
        "      best_match = cos_similarity\n",
        "      best_match_id = user_id\n",
        "      best_match_vector = user_vector\n",
        "\n",
        "print('Best Match: {}, Best Match ID: {}'.format(best_match, best_match_id))"
      ],
      "execution_count": null,
      "outputs": [
        {
          "output_type": "stream",
          "name": "stdout",
          "text": [
            "Best Match: 0.569065731527988, Best Match ID: 915\n"
          ]
        }
      ]
    },
    {
      "cell_type": "markdown",
      "metadata": {
        "id": "HreRrslahd32"
      },
      "source": [
        "## 협업 필터링(Collaborative Filtering)\n",
        "\n",
        "* 사용자와 항목의 유사성을 동시에 고려해 추천\n",
        "* 기존에 내 관심사가 아닌 항목이라도 추천 가능\n",
        "* 자동으로 임베딩 학습 가능\n",
        "* 협업 필터링은 다음과 같은 장단점을 갖고 있다.\n",
        "  * 장점\n",
        "    * 자동으로 임베딩을 학습하기 때문에 도메인 지식이 필요 없다.\n",
        "    * 기존의 관심사가 아니더라도 추천 가능\n",
        "  * 단점\n",
        "    * 학습 과정에 나오지 않은 항목은 임베딩을 만들 수 없음\n",
        "    * 추가 특성을 사용하기 어려움"
      ]
    },
    {
      "cell_type": "code",
      "metadata": {
        "id": "BSj5Ex6yhPxq"
      },
      "source": [
        "from surprise import KNNBasic, SVD, SVDpp, NMF\n",
        "from surprise import Dataset\n",
        "from surprise.model_selection import cross_validate"
      ],
      "execution_count": null,
      "outputs": []
    },
    {
      "cell_type": "code",
      "metadata": {
        "id": "mWAiO62WkH2U"
      },
      "source": [
        "data = Dataset.load_builtin('ml-100k', prompt=False)"
      ],
      "execution_count": null,
      "outputs": []
    },
    {
      "cell_type": "markdown",
      "metadata": {
        "id": "LKP-UxZkkc8n"
      },
      "source": [
        "* KNN을 사용한 협업 필터링"
      ]
    },
    {
      "cell_type": "code",
      "metadata": {
        "id": "x9LlEDqvkayg",
        "colab": {
          "base_uri": "https://localhost:8080/"
        },
        "outputId": "0c394312-6c2f-4639-b002-918fac0b1dd8"
      },
      "source": [
        "model = KNNBasic()\n",
        "cross_validate(model, data, measures=['rmse', 'mae'], cv=5, n_jobs=4, verbose=True)"
      ],
      "execution_count": null,
      "outputs": [
        {
          "output_type": "stream",
          "name": "stdout",
          "text": [
            "Evaluating RMSE, MAE of algorithm KNNBasic on 5 split(s).\n",
            "\n",
            "                  Fold 1  Fold 2  Fold 3  Fold 4  Fold 5  Mean    Std     \n",
            "RMSE (testset)    0.9749  0.9779  0.9772  0.9835  0.9791  0.9785  0.0028  \n",
            "MAE (testset)     0.7679  0.7709  0.7734  0.7779  0.7733  0.7727  0.0033  \n",
            "Fit time          1.47    1.23    0.92    0.96    1.66    1.25    0.29    \n",
            "Test time         11.76   13.30   12.88   12.92   3.24    10.82   3.82    \n"
          ]
        },
        {
          "output_type": "execute_result",
          "data": {
            "text/plain": [
              "{'test_rmse': array([0.97489697, 0.97793854, 0.97724397, 0.98345072, 0.97912028]),\n",
              " 'test_mae': array([0.76787657, 0.77093575, 0.77343067, 0.77785138, 0.77328053]),\n",
              " 'fit_time': (1.4685866832733154,\n",
              "  1.226381540298462,\n",
              "  0.9164028167724609,\n",
              "  0.9618566036224365,\n",
              "  1.6552505493164062),\n",
              " 'test_time': (11.762104511260986,\n",
              "  13.297059535980225,\n",
              "  12.881492137908936,\n",
              "  12.923609018325806,\n",
              "  3.2443418502807617)}"
            ]
          },
          "metadata": {},
          "execution_count": 39
        }
      ]
    },
    {
      "cell_type": "markdown",
      "metadata": {
        "id": "QFEFPuSflHew"
      },
      "source": [
        "* SVD를 사용한 협업 필터링"
      ]
    },
    {
      "cell_type": "code",
      "metadata": {
        "id": "H6HJ5bKOlHIb",
        "colab": {
          "base_uri": "https://localhost:8080/"
        },
        "outputId": "c306279c-e753-4e9a-c387-e9cbc7762b02"
      },
      "source": [
        "model = SVD()\n",
        "cross_validate(model, data, measures=['rmse', 'mae'], cv=5, n_jobs=4, verbose=True)"
      ],
      "execution_count": null,
      "outputs": [
        {
          "output_type": "stream",
          "name": "stdout",
          "text": [
            "Evaluating RMSE, MAE of algorithm SVD on 5 split(s).\n",
            "\n",
            "                  Fold 1  Fold 2  Fold 3  Fold 4  Fold 5  Mean    Std     \n",
            "RMSE (testset)    0.9380  0.9400  0.9388  0.9286  0.9393  0.9369  0.0042  \n",
            "MAE (testset)     0.7408  0.7417  0.7390  0.7313  0.7411  0.7388  0.0038  \n",
            "Fit time          4.44    5.04    5.27    5.25    1.55    4.31    1.41    \n",
            "Test time         1.05    0.91    0.64    0.45    0.14    0.64    0.32    \n"
          ]
        },
        {
          "output_type": "execute_result",
          "data": {
            "text/plain": [
              "{'test_rmse': array([0.93796268, 0.93999741, 0.9387987 , 0.92861104, 0.93933628]),\n",
              " 'test_mae': array([0.74079065, 0.74167672, 0.73897165, 0.73129449, 0.7411253 ]),\n",
              " 'fit_time': (4.4423441886901855,\n",
              "  5.044606447219849,\n",
              "  5.272417783737183,\n",
              "  5.246880531311035,\n",
              "  1.5487234592437744),\n",
              " 'test_time': (1.049412727355957,\n",
              "  0.9120485782623291,\n",
              "  0.6389079093933105,\n",
              "  0.4547584056854248,\n",
              "  0.14083385467529297)}"
            ]
          },
          "metadata": {},
          "execution_count": 40
        }
      ]
    },
    {
      "cell_type": "markdown",
      "metadata": {
        "id": "MqK8Xgeglkmj"
      },
      "source": [
        "* NMF를 사용한 협업 필터링"
      ]
    },
    {
      "cell_type": "code",
      "metadata": {
        "id": "zSwGKHEDkyue",
        "colab": {
          "base_uri": "https://localhost:8080/"
        },
        "outputId": "2d154efb-38e4-46a2-e4cc-8ad4d097292d"
      },
      "source": [
        "model = NMF()\n",
        "cross_validate(model, data, measures=['rmse', 'mae'], cv=5, n_jobs=4, verbose=True)"
      ],
      "execution_count": null,
      "outputs": [
        {
          "output_type": "stream",
          "name": "stdout",
          "text": [
            "Evaluating RMSE, MAE of algorithm NMF on 5 split(s).\n",
            "\n",
            "                  Fold 1  Fold 2  Fold 3  Fold 4  Fold 5  Mean    Std     \n",
            "RMSE (testset)    0.9750  0.9619  0.9653  0.9545  0.9593  0.9632  0.0069  \n",
            "MAE (testset)     0.7630  0.7582  0.7592  0.7538  0.7542  0.7577  0.0034  \n",
            "Fit time          4.54    4.49    4.81    4.47    1.50    3.96    1.24    \n",
            "Test time         0.43    0.52    0.29    0.35    0.13    0.34    0.13    \n"
          ]
        },
        {
          "output_type": "execute_result",
          "data": {
            "text/plain": [
              "{'test_rmse': array([0.97495104, 0.96187772, 0.96534937, 0.95445645, 0.95933691]),\n",
              " 'test_mae': array([0.76295237, 0.75820818, 0.75916689, 0.75384012, 0.75418092]),\n",
              " 'fit_time': (4.538837194442749,\n",
              "  4.493221044540405,\n",
              "  4.813565731048584,\n",
              "  4.47431755065918,\n",
              "  1.5012257099151611),\n",
              " 'test_time': (0.43421196937561035,\n",
              "  0.5160651206970215,\n",
              "  0.29396963119506836,\n",
              "  0.3491652011871338,\n",
              "  0.1285405158996582)}"
            ]
          },
          "metadata": {},
          "execution_count": 41
        }
      ]
    },
    {
      "cell_type": "markdown",
      "metadata": {
        "id": "odXxXkX0mi_7"
      },
      "source": [
        "* SVD++를 사용한 협업 필터링"
      ]
    },
    {
      "cell_type": "code",
      "metadata": {
        "id": "Ck153w1Tlsxa",
        "colab": {
          "base_uri": "https://localhost:8080/"
        },
        "outputId": "dbfda310-8e77-4649-8c9d-de795445cba9"
      },
      "source": [
        "model = SVDpp()\n",
        "cross_validate(model, data, measures=['rmse', 'mae'], cv=5, n_jobs=4, verbose=True)"
      ],
      "execution_count": null,
      "outputs": [
        {
          "output_type": "stream",
          "name": "stdout",
          "text": [
            "Evaluating RMSE, MAE of algorithm SVDpp on 5 split(s).\n",
            "\n",
            "                  Fold 1  Fold 2  Fold 3  Fold 4  Fold 5  Mean    Std     \n",
            "RMSE (testset)    0.9272  0.9219  0.9145  0.9183  0.9165  0.9197  0.0045  \n",
            "MAE (testset)     0.7248  0.7238  0.7162  0.7217  0.7186  0.7210  0.0032  \n",
            "Fit time          95.92   94.25   96.38   95.73   29.59   82.37   26.40   \n",
            "Test time         14.02   13.34   13.03   13.58   4.20    11.63   3.73    \n"
          ]
        },
        {
          "output_type": "execute_result",
          "data": {
            "text/plain": [
              "{'test_rmse': array([0.92724811, 0.92185662, 0.91452391, 0.91825055, 0.9165108 ]),\n",
              " 'test_mae': array([0.72483274, 0.72375803, 0.71623375, 0.72165562, 0.71861782]),\n",
              " 'fit_time': (95.92321515083313,\n",
              "  94.24707365036011,\n",
              "  96.37856721878052,\n",
              "  95.73079657554626,\n",
              "  29.59316349029541),\n",
              " 'test_time': (14.022990465164185,\n",
              "  13.344100713729858,\n",
              "  13.025187492370605,\n",
              "  13.575920104980469,\n",
              "  4.2032434940338135)}"
            ]
          },
          "metadata": {},
          "execution_count": 42
        }
      ]
    },
    {
      "cell_type": "markdown",
      "metadata": {
        "id": "hMNwOXpjqeWq"
      },
      "source": [
        "## 하이브리드(Hybrid)\n",
        "\n",
        "* 컨텐츠 기반 필터링과 협업 필터링을 조합한 방식\n",
        "* 많은 하이브리드 방식이 존재\n",
        "* 실습에서는 협업 필터링으로 임베딩을 학습하고 컨텐츠 기반 필터링으로 유사도 기반 추천을 수행하는 추천 엔진 개발"
      ]
    },
    {
      "cell_type": "code",
      "metadata": {
        "id": "9mDHmnwFmzwd"
      },
      "source": [
        "import numpy as np\n",
        "from sklearn.decomposition import randomized_svd, non_negative_factorization\n",
        "from surprise import Dataset"
      ],
      "execution_count": null,
      "outputs": []
    },
    {
      "cell_type": "code",
      "metadata": {
        "id": "MtEuyQGGMmor"
      },
      "source": [
        "data = Dataset.load_builtin('ml-100k', prompt=False)\n",
        "raw_data = np.array(data.raw_ratings, dtype=int)\n",
        "raw_data[:, 0] -= 1\n",
        "raw_data[:, 1] -= 1"
      ],
      "execution_count": null,
      "outputs": []
    },
    {
      "cell_type": "code",
      "metadata": {
        "id": "esDSrjm_NshD",
        "colab": {
          "base_uri": "https://localhost:8080/"
        },
        "outputId": "32d3872b-6c01-46c3-d23b-aab3f44450dc"
      },
      "source": [
        "n_users = np.max(raw_data[:, 0])\n",
        "n_movies = np.max(raw_data[:, 1])\n",
        "shape = (n_users + 1, n_movies + 1)\n",
        "shape"
      ],
      "execution_count": null,
      "outputs": [
        {
          "output_type": "execute_result",
          "data": {
            "text/plain": [
              "(943, 1682)"
            ]
          },
          "metadata": {},
          "execution_count": 66
        }
      ]
    },
    {
      "cell_type": "code",
      "metadata": {
        "id": "v6lc4h2sNY_7"
      },
      "source": [
        "adj_matrix = np.ndarray(shape, dtype=int)\n",
        "for user_id, movie_id, rating, time in raw_data:\n",
        "  adj_matrix[user_id][movie_id] = rating"
      ],
      "execution_count": null,
      "outputs": []
    },
    {
      "cell_type": "code",
      "metadata": {
        "id": "bZnx294OTntk",
        "colab": {
          "base_uri": "https://localhost:8080/"
        },
        "outputId": "5f75316c-657b-4de6-98fe-8f9009023168"
      },
      "source": [
        "adj_matrix"
      ],
      "execution_count": null,
      "outputs": [
        {
          "output_type": "execute_result",
          "data": {
            "text/plain": [
              "array([[5, 3, 4, ..., 0, 0, 0],\n",
              "       [4, 0, 0, ..., 0, 0, 0],\n",
              "       [0, 0, 0, ..., 0, 0, 0],\n",
              "       ...,\n",
              "       [5, 0, 0, ..., 0, 0, 0],\n",
              "       [0, 0, 0, ..., 0, 0, 0],\n",
              "       [0, 5, 0, ..., 0, 0, 0]])"
            ]
          },
          "metadata": {},
          "execution_count": 68
        }
      ]
    },
    {
      "cell_type": "code",
      "metadata": {
        "id": "mpw7bmE-SVon"
      },
      "source": [
        "U, S, V = randomized_svd(adj_matrix, n_components=2)\n",
        "S = np.diag(S)"
      ],
      "execution_count": null,
      "outputs": []
    },
    {
      "cell_type": "code",
      "metadata": {
        "id": "sdnXxd6lODFy",
        "colab": {
          "base_uri": "https://localhost:8080/"
        },
        "outputId": "7098e028-7194-4099-8cf3-78ff1a55fc3e"
      },
      "source": [
        "print(U.shape)\n",
        "print(S.shape)\n",
        "print(V.shape)"
      ],
      "execution_count": null,
      "outputs": [
        {
          "output_type": "stream",
          "name": "stdout",
          "text": [
            "(943, 2)\n",
            "(2, 2)\n",
            "(2, 1682)\n"
          ]
        }
      ]
    },
    {
      "cell_type": "code",
      "metadata": {
        "id": "zBvnhmuhOxDx",
        "colab": {
          "base_uri": "https://localhost:8080/"
        },
        "outputId": "d43fee2e-af42-4b5c-c274-517518761e5c"
      },
      "source": [
        "np.matmul(np.matmul(U, S), V)"
      ],
      "execution_count": null,
      "outputs": [
        {
          "output_type": "execute_result",
          "data": {
            "text/plain": [
              "array([[ 3.91732653e+00,  1.47276642e+00,  7.98262009e-01, ...,\n",
              "         6.24906947e-04,  1.41100868e-02,  1.36545919e-02],\n",
              "       [ 1.85777227e+00,  3.96191290e-01,  5.05705328e-01, ...,\n",
              "         5.38862784e-03,  1.77236747e-03,  5.26937807e-04],\n",
              "       [ 8.94989070e-01,  1.71578524e-01,  2.51738309e-01, ...,\n",
              "         2.92094586e-03,  5.39931304e-04, -1.25749348e-04],\n",
              "       ...,\n",
              "       [ 9.92051594e-01,  2.10814989e-01,  2.70363025e-01, ...,\n",
              "         2.89019007e-03,  9.34216142e-04,  2.66596787e-04],\n",
              "       [ 1.30425403e+00,  5.27669923e-01,  2.50080244e-01, ...,\n",
              "        -4.20677307e-04,  5.30525883e-03,  5.28070469e-03],\n",
              "       [ 2.82999408e+00,  9.70812283e-01,  6.15871634e-01, ...,\n",
              "         2.02091503e-03,  8.67740526e-03,  8.03107156e-03]])"
            ]
          },
          "metadata": {},
          "execution_count": 72
        }
      ]
    },
    {
      "cell_type": "markdown",
      "metadata": {
        "id": "3pSBMfF7d74E"
      },
      "source": [
        "* 사용자 기반 추천\n",
        "* 나와 비슷한 취향을 가진 다른 사용자의 행동을 추천\n",
        "* 사용자 특징 벡터의 유사도 사용"
      ]
    },
    {
      "cell_type": "code",
      "metadata": {
        "id": "N6nYexy6cq9V",
        "colab": {
          "base_uri": "https://localhost:8080/"
        },
        "outputId": "b154f846-6258-4b5d-c3f4-a642b9f892a8"
      },
      "source": [
        "#유사도 계산\n",
        "my_id, my_vector = 0, U[0]\n",
        "best_match, best_vector, best_match_vector = -1, -1, []\n",
        "\n",
        "for user_id, user_vector in enumerate(U):\n",
        "  if my_id != user_id:\n",
        "    cos_similarity = compute_cos_similarity(my_vector, user_vector)\n",
        "    if cos_similarity > best_match:\n",
        "      best_match = cos_similarity\n",
        "      best_match_id = user_id\n",
        "      best_match_vector = user_vector\n",
        "\n",
        "print('Best Match: {}, Best Match ID: {}'.format(best_match, best_match_id))"
      ],
      "execution_count": null,
      "outputs": [
        {
          "output_type": "stream",
          "name": "stdout",
          "text": [
            "Best Match: 0.9999942298407279, Best Match ID: 235\n"
          ]
        }
      ]
    },
    {
      "cell_type": "code",
      "metadata": {
        "id": "wdISUAEIfoHi",
        "colab": {
          "base_uri": "https://localhost:8080/"
        },
        "outputId": "02de7cae-1e18-4e73-bdf2-b0b60657289a"
      },
      "source": [
        "recommend_list = []\n",
        "for i, log in enumerate(zip(adj_matrix[my_id], adj_matrix[best_match_id])):\n",
        "  log1, log2 = log\n",
        "  if log1 <1. and log2 >0. :\n",
        "    recommend_list.append(i)\n",
        "print(recommend_list)"
      ],
      "execution_count": null,
      "outputs": [
        {
          "output_type": "stream",
          "name": "stdout",
          "text": [
            "[272, 273, 274, 281, 285, 288, 293, 297, 303, 306, 312, 317, 327, 332, 369, 410, 418, 419, 422, 426, 428, 431, 434, 442, 461, 475, 477, 482, 495, 503, 504, 505, 506, 509, 519, 520, 522, 525, 531, 545, 548, 590, 594, 595, 613, 631, 654, 658, 660, 672, 684, 685, 691, 695, 698, 704, 716, 728, 734, 749, 755, 863, 865, 933, 1012, 1038, 1101, 1327, 1400]\n"
          ]
        }
      ]
    },
    {
      "cell_type": "markdown",
      "metadata": {
        "id": "0nSD2izbhJix"
      },
      "source": [
        "* 항목 기반 추천\n",
        "* 내가 본 항목과 비슷한 항목을 추천\n",
        "* 항목 특징 벡터의 유사도 사용"
      ]
    },
    {
      "cell_type": "code",
      "metadata": {
        "id": "vCLxtkLdgM-s",
        "colab": {
          "base_uri": "https://localhost:8080/"
        },
        "outputId": "4d992533-abd3-4dcc-c9ca-9682dfa694bd"
      },
      "source": [
        "#유사도 계산\n",
        "my_id, my_vector = 0, V.T[0]\n",
        "best_match, best_vector, best_match_vector = -1, -1, []\n",
        "\n",
        "for user_id, user_vector in enumerate(V.T):\n",
        "  if my_id != user_id:\n",
        "    cos_similarity = compute_cos_similarity(my_vector, user_vector)\n",
        "    if cos_similarity > best_match:\n",
        "      best_match = cos_similarity\n",
        "      best_match_id = user_id\n",
        "      best_match_vector = user_vector\n",
        "\n",
        "print('Best Match: {}, Best Match ID: {}'.format(best_match, best_match_id))"
      ],
      "execution_count": null,
      "outputs": [
        {
          "output_type": "stream",
          "name": "stdout",
          "text": [
            "Best Match: 0.9999999948670549, Best Match ID: 1287\n"
          ]
        }
      ]
    },
    {
      "cell_type": "code",
      "metadata": {
        "id": "IZ49Abk7iBeU",
        "colab": {
          "base_uri": "https://localhost:8080/"
        },
        "outputId": "09147492-be60-4600-eb74-10cd69360b95"
      },
      "source": [
        "recommend_list = []\n",
        "for i, use_vector in enumerate(adj_matrix):\n",
        "  if adj_matrix[i][my_id] > 0.9:\n",
        "    recommend_list.append(i)\n",
        "print(recommend_list)"
      ],
      "execution_count": null,
      "outputs": [
        {
          "output_type": "stream",
          "name": "stdout",
          "text": [
            "[0, 1, 4, 5, 9, 12, 14, 15, 16, 17, 19, 20, 22, 24, 25, 37, 40, 41, 42, 43, 44, 48, 53, 55, 56, 57, 58, 61, 62, 63, 64, 65, 66, 69, 71, 72, 74, 76, 78, 80, 81, 82, 83, 88, 91, 92, 93, 94, 95, 96, 98, 100, 101, 105, 107, 108, 116, 119, 120, 123, 124, 127, 129, 130, 133, 136, 137, 140, 143, 144, 147, 149, 150, 156, 157, 159, 161, 167, 173, 176, 177, 180, 181, 183, 188, 192, 193, 197, 198, 199, 200, 201, 202, 203, 208, 209, 212, 215, 221, 222, 229, 230, 231, 233, 234, 241, 242, 243, 245, 246, 247, 248, 249, 250, 251, 252, 253, 255, 261, 262, 264, 267, 270, 273, 274, 275, 276, 278, 279, 285, 286, 288, 289, 290, 291, 292, 293, 294, 295, 296, 297, 298, 300, 302, 304, 306, 307, 310, 311, 312, 313, 319, 321, 323, 324, 325, 326, 329, 330, 331, 335, 337, 338, 339, 342, 343, 344, 346, 347, 349, 356, 358, 359, 362, 364, 370, 373, 377, 378, 379, 380, 386, 387, 388, 389, 392, 393, 394, 395, 397, 398, 400, 401, 402, 405, 406, 410, 411, 415, 416, 418, 421, 423, 424, 428, 431, 433, 434, 437, 440, 444, 446, 449, 453, 454, 455, 456, 457, 458, 459, 462, 464, 466, 467, 469, 470, 471, 477, 478, 482, 483, 485, 486, 487, 489, 492, 493, 494, 496, 499, 502, 504, 507, 511, 513, 516, 517, 520, 522, 524, 525, 531, 532, 533, 534, 535, 536, 539, 540, 541, 544, 547, 548, 549, 551, 552, 553, 559, 560, 561, 566, 568, 575, 576, 578, 579, 581, 587, 591, 592, 596, 598, 601, 604, 605, 608, 609, 611, 612, 613, 617, 619, 620, 621, 623, 629, 631, 633, 634, 635, 636, 641, 642, 647, 648, 649, 652, 653, 654, 656, 657, 659, 660, 662, 663, 664, 668, 673, 675, 676, 677, 678, 679, 681, 683, 688, 689, 690, 691, 696, 697, 698, 700, 702, 704, 705, 707, 708, 709, 713, 714, 715, 720, 722, 725, 726, 729, 730, 732, 734, 737, 741, 743, 744, 745, 746, 747, 748, 750, 755, 756, 758, 760, 762, 763, 766, 767, 768, 769, 770, 772, 776, 778, 784, 785, 787, 788, 789, 791, 792, 793, 794, 795, 797, 799, 803, 804, 805, 806, 814, 816, 820, 821, 822, 825, 828, 829, 830, 834, 837, 838, 842, 846, 851, 853, 863, 864, 866, 867, 869, 871, 878, 879, 880, 881, 882, 884, 885, 886, 888, 889, 891, 892, 893, 894, 895, 896, 898, 900, 901, 902, 906, 909, 912, 915, 916, 917, 918, 920, 921, 922, 923, 926, 928, 929, 931, 932, 933, 934, 935, 937, 940]\n"
          ]
        }
      ]
    },
    {
      "cell_type": "markdown",
      "metadata": {
        "id": "7uAlUROxj2nA"
      },
      "source": [
        "* 비음수 행렬 분해를 사용한 하이브리드 추천"
      ]
    },
    {
      "cell_type": "code",
      "metadata": {
        "id": "Ou2UGuXMTY39",
        "colab": {
          "base_uri": "https://localhost:8080/"
        },
        "outputId": "1b6def76-4022-4afe-b7da-a9fd0a9b306e"
      },
      "source": [
        "adj_matrix"
      ],
      "execution_count": null,
      "outputs": [
        {
          "output_type": "execute_result",
          "data": {
            "text/plain": [
              "array([[5, 3, 4, ..., 0, 0, 0],\n",
              "       [4, 0, 0, ..., 0, 0, 0],\n",
              "       [0, 0, 0, ..., 0, 0, 0],\n",
              "       ...,\n",
              "       [5, 0, 0, ..., 0, 0, 0],\n",
              "       [0, 0, 0, ..., 0, 0, 0],\n",
              "       [0, 5, 0, ..., 0, 0, 0]])"
            ]
          },
          "metadata": {},
          "execution_count": 83
        }
      ]
    },
    {
      "cell_type": "code",
      "metadata": {
        "id": "yThSdQxDjnsk"
      },
      "source": [
        "A, B, iter = non_negative_factorization(adj_matrix, n_components=2)"
      ],
      "execution_count": null,
      "outputs": []
    },
    {
      "cell_type": "code",
      "metadata": {
        "id": "hqtcd6HmkOsA",
        "colab": {
          "base_uri": "https://localhost:8080/"
        },
        "outputId": "de9bde8f-1cd0-4676-8577-8d429c2383e9"
      },
      "source": [
        "np.matmul(A, B)"
      ],
      "execution_count": null,
      "outputs": [
        {
          "output_type": "execute_result",
          "data": {
            "text/plain": [
              "array([[3.71107433e+00, 1.48461856e+00, 7.39541570e-01, ...,\n",
              "        3.64501983e-03, 1.45513751e-02, 1.44116215e-02],\n",
              "       [2.11729713e+00, 2.37145679e-01, 5.51637757e-01, ...,\n",
              "        4.76290749e-03, 2.84605930e-05, 0.00000000e+00],\n",
              "       [9.85325089e-01, 1.10360320e-01, 2.56715279e-01, ...,\n",
              "        2.21651094e-03, 1.32446863e-05, 0.00000000e+00],\n",
              "       ...,\n",
              "       [1.04478344e+00, 1.17019891e-01, 2.72206478e-01, ...,\n",
              "        2.35026384e-03, 1.40439223e-05, 0.00000000e+00],\n",
              "       [1.45769331e+00, 5.42108391e-01, 2.99217251e-01, ...,\n",
              "        1.61232500e-03, 5.15892655e-03, 5.10748255e-03],\n",
              "       [2.44709957e+00, 9.41278705e-01, 4.95671746e-01, ...,\n",
              "        2.56934867e-03, 9.08400301e-03, 8.99501717e-03]])"
            ]
          },
          "metadata": {},
          "execution_count": 85
        }
      ]
    },
    {
      "cell_type": "markdown",
      "metadata": {
        "id": "6DGX9EtEop4i"
      },
      "source": [
        "* 사용자 기반 추천"
      ]
    },
    {
      "cell_type": "code",
      "metadata": {
        "id": "dndXY3Gvm7zs",
        "colab": {
          "base_uri": "https://localhost:8080/"
        },
        "outputId": "a591ed2d-334a-4021-8cc3-8ea8b77bbdb4"
      },
      "source": [
        "my_id, my_vector = 0, U[0]  # 내 id가 0번 이라고 가정 b\n",
        "best_match, best_match_id, best_match_vector = -1, -1, []\n",
        "\n",
        "for item_id, item_vector in enumerate(U):\n",
        "  if my_id != item_id:\n",
        "    cos_similarity = compute_cos_similarity(my_vector, item_vector)\n",
        "    if cos_similarity > best_match:\n",
        "      best_match = cos_similarity\n",
        "      best_match_id = item_id\n",
        "      best_match_vector = item_vector\n",
        "\n",
        "print('Best Match: {}, Best Match ID: {}'.format(best_match, best_match_id))"
      ],
      "execution_count": null,
      "outputs": [
        {
          "output_type": "stream",
          "name": "stdout",
          "text": [
            "Best Match: 0.9999942298407279, Best Match ID: 235\n"
          ]
        }
      ]
    },
    {
      "cell_type": "code",
      "metadata": {
        "id": "njszNHE_m9MK",
        "colab": {
          "base_uri": "https://localhost:8080/"
        },
        "outputId": "ac981c56-af7b-463e-eb41-882b0ce3b19d"
      },
      "source": [
        "recommend_list = []\n",
        "for i, log in enumerate(zip(adj_matrix[my_id], adj_matrix[best_match_id])):\n",
        "  log1, log2 = log\n",
        "  if log1 < 1. and log2 > 0.:\n",
        "    recommend_list.append(i)\n",
        "print(recommend_list)"
      ],
      "execution_count": null,
      "outputs": [
        {
          "output_type": "stream",
          "name": "stdout",
          "text": [
            "[272, 273, 274, 281, 285, 288, 293, 297, 303, 306, 312, 317, 327, 332, 369, 410, 418, 419, 422, 426, 428, 431, 434, 442, 461, 475, 477, 482, 495, 503, 504, 505, 506, 509, 519, 520, 522, 525, 531, 545, 548, 590, 594, 595, 613, 631, 654, 658, 660, 672, 684, 685, 691, 695, 698, 704, 716, 728, 734, 749, 755, 863, 865, 933, 1012, 1038, 1101, 1327, 1400]\n"
          ]
        }
      ]
    },
    {
      "cell_type": "markdown",
      "metadata": {
        "id": "F21eqO8dosUE"
      },
      "source": [
        "* 항목 기반 추천"
      ]
    },
    {
      "cell_type": "code",
      "metadata": {
        "id": "G8RZo0Mvom4X",
        "colab": {
          "base_uri": "https://localhost:8080/"
        },
        "outputId": "d72f6400-9148-4dae-f7ed-582d03ac198e"
      },
      "source": [
        "my_id, my_vector = 0, V.T[0]  # 기준 항목이 0번 이라고 가정\n",
        "best_match, best_match_id, best_match_vector = -1, -1, []\n",
        "\n",
        "for item_id, item_vector in enumerate(V.T):\n",
        "  if my_id != item_id:\n",
        "    cos_similarity = compute_cos_similarity(my_vector, item_vector)\n",
        "    if cos_similarity > best_match:\n",
        "      best_match = cos_similarity\n",
        "      best_match_id = item_id\n",
        "      best_match_vector = item_vector\n",
        "\n",
        "print('Best Match: {}, Best Match ID: {}'.format(best_match, best_match_id))"
      ],
      "execution_count": null,
      "outputs": [
        {
          "output_type": "stream",
          "name": "stdout",
          "text": [
            "Best Match: 0.9999999948670549, Best Match ID: 1287\n"
          ]
        }
      ]
    },
    {
      "cell_type": "code",
      "metadata": {
        "id": "G_ua-2Lcox8i",
        "colab": {
          "base_uri": "https://localhost:8080/"
        },
        "outputId": "94be07c2-8341-432a-a09a-c9b61b0dda02"
      },
      "source": [
        "recommend_list = []\n",
        "for i, user_vector in enumerate(adj_matrix):\n",
        "  if adj_matrix[i][my_id] > 0.9:\n",
        "    recommend_list.append(i)\n",
        "print(recommend_list)"
      ],
      "execution_count": null,
      "outputs": [
        {
          "output_type": "stream",
          "name": "stdout",
          "text": [
            "[0, 1, 4, 5, 9, 12, 14, 15, 16, 17, 19, 20, 22, 24, 25, 37, 40, 41, 42, 43, 44, 48, 53, 55, 56, 57, 58, 61, 62, 63, 64, 65, 66, 69, 71, 72, 74, 76, 78, 80, 81, 82, 83, 88, 91, 92, 93, 94, 95, 96, 98, 100, 101, 105, 107, 108, 116, 119, 120, 123, 124, 127, 129, 130, 133, 136, 137, 140, 143, 144, 147, 149, 150, 156, 157, 159, 161, 167, 173, 176, 177, 180, 181, 183, 188, 192, 193, 197, 198, 199, 200, 201, 202, 203, 208, 209, 212, 215, 221, 222, 229, 230, 231, 233, 234, 241, 242, 243, 245, 246, 247, 248, 249, 250, 251, 252, 253, 255, 261, 262, 264, 267, 270, 273, 274, 275, 276, 278, 279, 285, 286, 288, 289, 290, 291, 292, 293, 294, 295, 296, 297, 298, 300, 302, 304, 306, 307, 310, 311, 312, 313, 319, 321, 323, 324, 325, 326, 329, 330, 331, 335, 337, 338, 339, 342, 343, 344, 346, 347, 349, 356, 358, 359, 362, 364, 370, 373, 377, 378, 379, 380, 386, 387, 388, 389, 392, 393, 394, 395, 397, 398, 400, 401, 402, 405, 406, 410, 411, 415, 416, 418, 421, 423, 424, 428, 431, 433, 434, 437, 440, 444, 446, 449, 453, 454, 455, 456, 457, 458, 459, 462, 464, 466, 467, 469, 470, 471, 477, 478, 482, 483, 485, 486, 487, 489, 492, 493, 494, 496, 499, 502, 504, 507, 511, 513, 516, 517, 520, 522, 524, 525, 531, 532, 533, 534, 535, 536, 539, 540, 541, 544, 547, 548, 549, 551, 552, 553, 559, 560, 561, 566, 568, 575, 576, 578, 579, 581, 587, 591, 592, 596, 598, 601, 604, 605, 608, 609, 611, 612, 613, 617, 619, 620, 621, 623, 629, 631, 633, 634, 635, 636, 641, 642, 647, 648, 649, 652, 653, 654, 656, 657, 659, 660, 662, 663, 664, 668, 673, 675, 676, 677, 678, 679, 681, 683, 688, 689, 690, 691, 696, 697, 698, 700, 702, 704, 705, 707, 708, 709, 713, 714, 715, 720, 722, 725, 726, 729, 730, 732, 734, 737, 741, 743, 744, 745, 746, 747, 748, 750, 755, 756, 758, 760, 762, 763, 766, 767, 768, 769, 770, 772, 776, 778, 784, 785, 787, 788, 789, 791, 792, 793, 794, 795, 797, 799, 803, 804, 805, 806, 814, 816, 820, 821, 822, 825, 828, 829, 830, 834, 837, 838, 842, 846, 851, 853, 863, 864, 866, 867, 869, 871, 878, 879, 880, 881, 882, 884, 885, 886, 888, 889, 891, 892, 893, 894, 895, 896, 898, 900, 901, 902, 906, 909, 912, 915, 916, 917, 918, 920, 921, 922, 923, 926, 928, 929, 931, 932, 933, 934, 935, 937, 940]\n"
          ]
        }
      ]
    }
  ]
}
